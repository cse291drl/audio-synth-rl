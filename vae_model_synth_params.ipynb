{
 "cells": [
  {
   "cell_type": "code",
   "execution_count": 11,
   "id": "53bb60c6-06b8-4275-97a0-9d8b67686b09",
   "metadata": {},
   "outputs": [
    {
     "name": "stdout",
     "output_type": "stream",
     "text": [
      "Can't import sounddevice!!!!\n"
     ]
    }
   ],
   "source": [
    "# Top of the file\n",
    "import os\n",
    "import pickle\n",
    "\n",
    "import torch\n",
    "from torch.utils.data import DataLoader\n",
    "\n",
    "import vae_model.build\n",
    "\n",
    "from data.preset import DexedPresetsParams\n",
    "import vae_config\n",
    "import data.build"
   ]
  },
  {
   "cell_type": "markdown",
   "id": "d9af8b51-803b-4ccf-9755-77e9a0dc7af5",
   "metadata": {},
   "source": [
    "## Load model"
   ]
  },
  {
   "cell_type": "code",
   "execution_count": 12,
   "id": "d33f3e50-ce40-4691-b4da-bff1917984b7",
   "metadata": {},
   "outputs": [
    {
     "name": "stdout",
     "output_type": "stream",
     "text": [
      "[PresetDataset] Cannot open '/home/ubuntu/environment/project/audio-synth-rl/data/stats/DexedDataset_spectrogram_nfft1024hop0256mels0257.json' stats file.\n",
      "[PresetDataset] No pre-computed spectrogram stats can be found. No normalization will be performed\n",
      "[PresetIndexesHelper] 144 learnable VSTi parameters, learnable tensor representation size: 610\n",
      "FORCE BIGGER ENC/DEC NETWORKS = False\n",
      "MIDI NOTES = ((60, 100),)\n",
      "self.spectrogram_input_size (257, 347)\n"
     ]
    }
   ],
   "source": [
    "config_dir = './vae_model'\n",
    "\n",
    "# Create model\n",
    "with open(os.path.join(config_dir, 'subset_samplers.pickle'), 'rb') as f:\n",
    "    idx_helper = pickle.load(f)\n",
    "with open(os.path.join(config_dir, 'config_train.pickle'), 'rb') as f:\n",
    "    conf_train = pickle.load(f)\n",
    "with open(os.path.join(config_dir, 'config_model.pickle'), 'rb') as f:\n",
    "    conf_model = pickle.load(f)\n",
    "    \n",
    "model_config, train_config = vae_config.model, vae_config.train\n",
    "dataset = data.build.get_dataset(model_config, train_config)\n",
    "\n",
    "_, _, _, model = vae_model.build.build_extended_ae_model(conf_model, conf_train,\n",
    "                                                                 idx_helper)\n",
    "model = model.eval()\n",
    "\n",
    "# Load from checkpoint\n",
    "checkpoint_state_dict = torch.load(\n",
    "    os.path.join(config_dir, '00133.tar'), \n",
    "    map_location=torch.device('cpu')\n",
    ")\n",
    "\n",
    "model.load_state_dict(checkpoint_state_dict['ae_model_state_dict'])\n",
    "\n",
    "ae_model, reg_model = model.ae_model, model.reg_model"
   ]
  },
  {
   "cell_type": "code",
   "execution_count": 13,
   "id": "7ebdbd54-fb71-486a-9dc6-b02b5ed1681a",
   "metadata": {},
   "outputs": [],
   "source": [
    "initial_ground_truth_spectrograms = torch.randn(1, 1, 257, 345)"
   ]
  },
  {
   "cell_type": "code",
   "execution_count": 14,
   "id": "a5c6d660-7a56-4a86-9b19-5e58f601903f",
   "metadata": {},
   "outputs": [
    {
     "data": {
      "text/plain": [
       "torch.Size([1, 1, 257, 347])"
      ]
     },
     "execution_count": 14,
     "metadata": {},
     "output_type": "execute_result"
    }
   ],
   "source": [
    "# Convert our dataset spectrogram to spectrograms compatible with the VAE\n",
    "processed_initial_ground_truth_spectrograms = torch.cat([initial_ground_truth_spectrograms, torch.zeros(initial_ground_truth_spectrograms.size(0), 1, 257, 2)], axis=-1)\n",
    "processed_initial_ground_truth_spectrograms.shape"
   ]
  },
  {
   "cell_type": "code",
   "execution_count": 19,
   "id": "a20b5145-f629-4797-a14b-ed89627cb2cc",
   "metadata": {},
   "outputs": [],
   "source": [
    "# Use VAE to get learnable param outputs for initial spectrograms\n",
    "def get_full_synth_params_from_vae(input_spectrograms):\n",
    "    with torch.no_grad():\n",
    "        # Use correct values here\n",
    "        preset_UID = 0\n",
    "        ref_midi_pitch = 60\n",
    "        ref_midi_velocity = 100\n",
    "\n",
    "        sample_info = torch.tensor([preset_UID, ref_midi_pitch, ref_midi_velocity], dtype=torch.int32).unsqueeze(0)\n",
    "        ae_out = ae_model(input_spectrograms, sample_info)  # Spectral VAE - tuple output\n",
    "\n",
    "        _, _, z_K_sampled, _, _ = ae_out\n",
    "        v_out = reg_model(z_K_sampled)\n",
    "\n",
    "        out_presets_instance = DexedPresetsParams(learnable_presets=v_out, dataset=dataset)\n",
    "        synth_params_tensor = out_presets_instance.get_full()\n",
    "        return synth_params_tensor"
   ]
  },
  {
   "cell_type": "code",
   "execution_count": 21,
   "id": "3ba65c97-375b-45ae-9c02-b4344ffa28c5",
   "metadata": {},
   "outputs": [
    {
     "data": {
      "text/plain": [
       "torch.Size([1, 155])"
      ]
     },
     "execution_count": 21,
     "metadata": {},
     "output_type": "execute_result"
    }
   ],
   "source": [
    "get_full_synth_params_from_vae(processed_initial_ground_truth_spectrograms).shape"
   ]
  }
 ],
 "metadata": {
  "kernelspec": {
   "display_name": "Python 3 (ipykernel)",
   "language": "python",
   "name": "python3"
  },
  "language_info": {
   "codemirror_mode": {
    "name": "ipython",
    "version": 3
   },
   "file_extension": ".py",
   "mimetype": "text/x-python",
   "name": "python",
   "nbconvert_exporter": "python",
   "pygments_lexer": "ipython3",
   "version": "3.9.7"
  }
 },
 "nbformat": 4,
 "nbformat_minor": 5
}
