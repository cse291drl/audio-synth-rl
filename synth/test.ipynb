{
 "cells": [
  {
   "cell_type": "code",
   "execution_count": 7,
   "metadata": {},
   "outputs": [],
   "source": [
    "\n",
    "import socket\n",
    "import sys\n",
    "import os\n",
    "import pickle\n",
    "import multiprocessing\n",
    "import time\n",
    "from typing import Iterable\n",
    "\n",
    "import numpy as np\n",
    "from scipy.io import wavfile\n",
    "import sqlite3\n",
    "import io\n",
    "from dexed import PresetDatabase, Dexed\n",
    "import dexed"
   ]
  },
  {
   "cell_type": "code",
   "execution_count": 8,
   "metadata": {},
   "outputs": [
    {
     "data": {
      "text/plain": [
       "<dexed.PresetDatabase at 0x23f1594d4f0>"
      ]
     },
     "execution_count": 8,
     "metadata": {},
     "output_type": "execute_result"
    }
   ],
   "source": [
    "dexed_db = PresetDatabase()\n",
    "dexed_db"
   ]
  },
  {
   "cell_type": "code",
   "execution_count": 9,
   "metadata": {},
   "outputs": [],
   "source": [
    "dexed_df = dexed.get_partial_presets_df([0,10])"
   ]
  },
  {
   "cell_type": "code",
   "execution_count": 10,
   "metadata": {},
   "outputs": [
    {
     "data": {
      "text/html": [
       "<div>\n",
       "<style scoped>\n",
       "    .dataframe tbody tr th:only-of-type {\n",
       "        vertical-align: middle;\n",
       "    }\n",
       "\n",
       "    .dataframe tbody tr th {\n",
       "        vertical-align: top;\n",
       "    }\n",
       "\n",
       "    .dataframe thead th {\n",
       "        text-align: right;\n",
       "    }\n",
       "</style>\n",
       "<table border=\"1\" class=\"dataframe\">\n",
       "  <thead>\n",
       "    <tr style=\"text-align: right;\">\n",
       "      <th></th>\n",
       "      <th>index_preset</th>\n",
       "      <th>index_cart</th>\n",
       "      <th>index_in_cartridge</th>\n",
       "      <th>name</th>\n",
       "      <th>pickled_params_np_array</th>\n",
       "      <th>other_names</th>\n",
       "      <th>labels</th>\n",
       "      <th>info</th>\n",
       "    </tr>\n",
       "  </thead>\n",
       "  <tbody>\n",
       "    <tr>\n",
       "      <th>0</th>\n",
       "      <td>0</td>\n",
       "      <td>0</td>\n",
       "      <td>0</td>\n",
       "      <td>BRITE RDS</td>\n",
       "      <td>[1.0, 0.0, 1.0, 0.5, 0.129032, 0.857143, 0.0, ...</td>\n",
       "      <td>None</td>\n",
       "      <td>harmonic</td>\n",
       "      <td>None</td>\n",
       "    </tr>\n",
       "    <tr>\n",
       "      <th>1</th>\n",
       "      <td>1</td>\n",
       "      <td>0</td>\n",
       "      <td>1</td>\n",
       "      <td>BRITE.FULL</td>\n",
       "      <td>[1.0, 0.0, 1.0, 0.5, 0.129032, 1.0, 0.0, 0.313...</td>\n",
       "      <td>None</td>\n",
       "      <td>harmonic</td>\n",
       "      <td>None</td>\n",
       "    </tr>\n",
       "    <tr>\n",
       "      <th>2</th>\n",
       "      <td>2</td>\n",
       "      <td>0</td>\n",
       "      <td>2</td>\n",
       "      <td>BRITE-FULL</td>\n",
       "      <td>[1.0, 0.0, 1.0, 0.5, 0.129032, 1.0, 0.0, 0.313...</td>\n",
       "      <td>None</td>\n",
       "      <td>harmonic</td>\n",
       "      <td>None</td>\n",
       "    </tr>\n",
       "    <tr>\n",
       "      <th>3</th>\n",
       "      <td>3</td>\n",
       "      <td>0</td>\n",
       "      <td>3</td>\n",
       "      <td>BRKN WNGS1</td>\n",
       "      <td>[1.0, 0.0, 1.0, 0.5, 0.064516, 1.0, 1.0, 0.242...</td>\n",
       "      <td>None</td>\n",
       "      <td>harmonic,percussive</td>\n",
       "      <td>None</td>\n",
       "    </tr>\n",
       "    <tr>\n",
       "      <th>4</th>\n",
       "      <td>4</td>\n",
       "      <td>0</td>\n",
       "      <td>4</td>\n",
       "      <td>BROKEROADS</td>\n",
       "      <td>[1.0, 0.0, 1.0, 0.5, 0.16129, 0.857143, 0.0, 0...</td>\n",
       "      <td>None</td>\n",
       "      <td>harmonic</td>\n",
       "      <td>None</td>\n",
       "    </tr>\n",
       "  </tbody>\n",
       "</table>\n",
       "</div>"
      ],
      "text/plain": [
       "   index_preset  index_cart  index_in_cartridge        name  \\\n",
       "0             0           0                   0  BRITE RDS    \n",
       "1             1           0                   1  BRITE.FULL   \n",
       "2             2           0                   2  BRITE-FULL   \n",
       "3             3           0                   3  BRKN WNGS1   \n",
       "4             4           0                   4  BROKEROADS   \n",
       "\n",
       "                             pickled_params_np_array other_names  \\\n",
       "0  [1.0, 0.0, 1.0, 0.5, 0.129032, 0.857143, 0.0, ...        None   \n",
       "1  [1.0, 0.0, 1.0, 0.5, 0.129032, 1.0, 0.0, 0.313...        None   \n",
       "2  [1.0, 0.0, 1.0, 0.5, 0.129032, 1.0, 0.0, 0.313...        None   \n",
       "3  [1.0, 0.0, 1.0, 0.5, 0.064516, 1.0, 1.0, 0.242...        None   \n",
       "4  [1.0, 0.0, 1.0, 0.5, 0.16129, 0.857143, 0.0, 0...        None   \n",
       "\n",
       "                labels  info  \n",
       "0             harmonic  None  \n",
       "1             harmonic  None  \n",
       "2             harmonic  None  \n",
       "3  harmonic,percussive  None  \n",
       "4             harmonic  None  "
      ]
     },
     "execution_count": 10,
     "metadata": {},
     "output_type": "execute_result"
    }
   ],
   "source": [
    "dexed_df.head()"
   ]
  },
  {
   "cell_type": "code",
   "execution_count": 11,
   "metadata": {},
   "outputs": [
    {
     "data": {
      "text/plain": [
       "(155,)"
      ]
     },
     "execution_count": 11,
     "metadata": {},
     "output_type": "execute_result"
    }
   ],
   "source": [
    "dexed_df['pickled_params_np_array'][0].shape"
   ]
  },
  {
   "cell_type": "code",
   "execution_count": 13,
   "metadata": {},
   "outputs": [
    {
     "name": "stdout",
     "output_type": "stream",
     "text": [
      "torch.Size([2, 155])\n",
      "torch.Size([2, 230])\n",
      "tensor(0.0017)\n",
      "tensor(7)\n",
      "(2, 155)\n",
      "(2, 155)\n",
      "0.0\n"
     ]
    }
   ],
   "source": [
    "import sys\n",
    "sys.path.append('..')\n",
    "import loss\n",
    "import torch\n",
    "param_check = torch.tensor(dexed_df['pickled_params_np_array'][0:2])\n",
    "params = loss.presetParam(param_check)\n",
    "print(torch.tensor(dexed_df['pickled_params_np_array'][0:2]).shape)\n",
    "learnable = params.to_learnable()\n",
    "print(learnable.shape)\n",
    "params = loss.presetParam(learnable,learnable=True)\n",
    "param = params.to_params()\n",
    "print((param_check-param).mean())\n",
    "print(torch.count_nonzero(param_check-param))\n",
    "param.shape\n",
    "params = loss.presetParam(torch.tensor(param))\n",
    "param2 = params.to_learnable()\n",
    "params = loss.presetParam(param2, learnable=True)\n",
    "param3 = params.to_params()\n",
    "\n",
    "print(param.shape)\n",
    "print(param3.shape)\n",
    "print((param-param3).mean())"
   ]
  },
  {
   "cell_type": "code",
   "execution_count": null,
   "metadata": {},
   "outputs": [
    {
     "name": "stdout",
     "output_type": "stream",
     "text": [
      "0.2591375590908389\n",
      "0.020117267050347845\n",
      "0.42577031656326053\n",
      "0.020724746106997923\n"
     ]
    }
   ],
   "source": [
    "from sklearn.metrics import mean_squared_error, mean_absolute_error\n",
    "\n",
    "random_err = []\n",
    "random_err2 = []\n",
    "truth = dexed_df['pickled_params_np_array'][0]\n",
    "for i in range(10000):\n",
    "    rand = np.random.rand(*truth.shape)\n",
    "    random_err.append(mean_squared_error(truth,rand))\n",
    "    random_err2.append(mean_absolute_error(truth,rand))\n",
    "print(np.mean(random_err))\n",
    "print(np.std(random_err))\n",
    "print(np.mean(random_err2))\n",
    "print(np.std(random_err2))"
   ]
  },
  {
   "cell_type": "code",
   "execution_count": null,
   "metadata": {},
   "outputs": [
    {
     "name": "stdout",
     "output_type": "stream",
     "text": [
      "155\n"
     ]
    }
   ],
   "source": [
    "print(len(Dexed.get_numerical_params_indexes())+len(Dexed.get_categorical_params_indexes()))"
   ]
  },
  {
   "cell_type": "code",
   "execution_count": null,
   "metadata": {},
   "outputs": [],
   "source": []
  }
 ],
 "metadata": {
  "interpreter": {
   "hash": "b3ba2566441a7c06988d0923437866b63cedc61552a5af99d1f4fb67d367b25f"
  },
  "kernelspec": {
   "display_name": "Python 3.8.3 64-bit ('base': conda)",
   "language": "python",
   "name": "python3"
  },
  "language_info": {
   "codemirror_mode": {
    "name": "ipython",
    "version": 3
   },
   "file_extension": ".py",
   "mimetype": "text/x-python",
   "name": "python",
   "nbconvert_exporter": "python",
   "pygments_lexer": "ipython3",
   "version": "3.9.7"
  },
  "orig_nbformat": 4
 },
 "nbformat": 4,
 "nbformat_minor": 2
}
