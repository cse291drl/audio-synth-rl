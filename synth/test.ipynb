{
 "cells": [
  {
   "cell_type": "code",
   "execution_count": 1,
   "metadata": {},
   "outputs": [],
   "source": [
    "\n",
    "import socket\n",
    "import sys\n",
    "import os\n",
    "import pickle\n",
    "import multiprocessing\n",
    "import time\n",
    "from typing import Iterable\n",
    "\n",
    "import numpy as np\n",
    "from scipy.io import wavfile\n",
    "import sqlite3\n",
    "import io\n",
    "from dexed import PresetDatabase, Dexed\n",
    "import dexed"
   ]
  },
  {
   "cell_type": "code",
   "execution_count": 2,
   "metadata": {},
   "outputs": [
    {
     "data": {
      "text/plain": [
       "<dexed.PresetDatabase at 0x249b448bc10>"
      ]
     },
     "execution_count": 2,
     "metadata": {},
     "output_type": "execute_result"
    }
   ],
   "source": [
    "dexed_db = PresetDatabase()\n",
    "dexed_db"
   ]
  },
  {
   "cell_type": "code",
   "execution_count": 3,
   "metadata": {},
   "outputs": [],
   "source": [
    "dexed_df = dexed.get_partial_presets_df([0,10])"
   ]
  },
  {
   "cell_type": "code",
   "execution_count": 4,
   "metadata": {},
   "outputs": [
    {
     "data": {
      "text/plain": [
       "array([1.      , 0.      , 1.      , 0.5     , 0.129032, 0.857143,\n",
       "       0.      , 0.070707, 0.333333, 0.      , 0.      , 0.      ,\n",
       "       0.8     , 0.5     , 0.285714, 0.949495, 0.676768, 0.959596,\n",
       "       0.606061, 0.50505 , 0.50505 , 0.50505 , 0.50505 , 0.969697,\n",
       "       0.252525, 0.252525, 0.676768, 1.      , 0.757576, 0.      ,\n",
       "       0.      , 1.      , 0.      , 0.032258, 0.      , 0.714286,\n",
       "       0.      , 0.      , 0.      , 0.      , 0.      , 0.428571,\n",
       "       0.      , 0.285714, 1.      , 0.959596, 0.50505 , 0.353535,\n",
       "       0.787879, 1.      , 0.757576, 0.      , 0.      , 0.767677,\n",
       "       0.      , 0.451613, 0.      , 0.5     , 0.      , 0.      ,\n",
       "       0.      , 0.      , 0.      , 0.428571, 0.      , 1.      ,\n",
       "       1.      , 0.959596, 0.20202 , 0.20202 , 0.50505 , 1.      ,\n",
       "       0.959596, 0.      , 0.      , 1.      , 0.      , 0.032258,\n",
       "       0.      , 0.5     , 0.      , 0.      , 0.      , 0.      ,\n",
       "       0.      , 0.428571, 0.      , 0.285714, 1.      , 0.959596,\n",
       "       0.292929, 0.20202 , 0.50505 , 1.      , 0.959596, 0.      ,\n",
       "       0.      , 0.919192, 0.      , 0.032258, 0.      , 0.5     ,\n",
       "       0.      , 0.      , 0.      , 0.      , 0.      , 0.428571,\n",
       "       0.      , 0.857143, 1.      , 0.959596, 0.20202 , 0.20202 ,\n",
       "       0.50505 , 1.      , 0.959596, 0.      , 0.      , 1.      ,\n",
       "       0.      , 0.032258, 0.      , 0.      , 0.      , 0.      ,\n",
       "       0.      , 0.      , 0.      , 0.428571, 0.      , 0.      ,\n",
       "       1.      , 0.959596, 0.292929, 0.20202 , 0.50505 , 1.      ,\n",
       "       0.959596, 0.      , 0.      , 0.878788, 0.      , 0.032258,\n",
       "       0.      , 1.      , 0.414141, 0.      , 0.191919, 0.      ,\n",
       "       0.      , 0.428571, 0.      , 0.857143, 1.      ], dtype=float32)"
      ]
     },
     "execution_count": 4,
     "metadata": {},
     "output_type": "execute_result"
    }
   ],
   "source": [
    "dexed_df['pickled_params_np_array'][0]"
   ]
  },
  {
   "cell_type": "code",
   "execution_count": 13,
   "metadata": {},
   "outputs": [
    {
     "name": "stdout",
     "output_type": "stream",
     "text": [
      "torch.Size([2, 155])\n",
      "torch.Size([2, 242])\n",
      "tensor(0.0017)\n",
      "tensor(7)\n",
      "torch.Size([2, 155])\n",
      "torch.Size([2, 155])\n",
      "tensor(0.)\n"
     ]
    }
   ],
   "source": [
    "import sys\n",
    "sys.path.append('..')\n",
    "import loss\n",
    "import torch\n",
    "param_check = torch.tensor(dexed_df['pickled_params_np_array'][0:2])\n",
    "params = loss.presetParam(param_check)\n",
    "print(torch.tensor(dexed_df['pickled_params_np_array'][0:2]).shape)\n",
    "learnable = params.to_learnable()\n",
    "print(learnable.shape)\n",
    "params = loss.presetParam(learnable,learnable=True)\n",
    "param = params.to_params()\n",
    "print((param_check-param).mean())\n",
    "print(torch.count_nonzero(param_check-param))\n",
    "param.shape\n",
    "params = loss.presetParam(param)\n",
    "param2 = params.to_learnable()\n",
    "params = loss.presetParam(param2, learnable=True)\n",
    "param3 = params.to_params()\n",
    "\n",
    "print(param.shape)\n",
    "print(param3.shape)\n",
    "print((param-param3).mean())"
   ]
  },
  {
   "cell_type": "code",
   "execution_count": null,
   "metadata": {},
   "outputs": [],
   "source": []
  }
 ],
 "metadata": {
  "interpreter": {
   "hash": "b3ba2566441a7c06988d0923437866b63cedc61552a5af99d1f4fb67d367b25f"
  },
  "kernelspec": {
   "display_name": "Python 3.8.3 64-bit ('base': conda)",
   "language": "python",
   "name": "python3"
  },
  "language_info": {
   "codemirror_mode": {
    "name": "ipython",
    "version": 3
   },
   "file_extension": ".py",
   "mimetype": "text/x-python",
   "name": "python",
   "nbconvert_exporter": "python",
   "pygments_lexer": "ipython3",
   "version": "3.9.7"
  },
  "orig_nbformat": 4
 },
 "nbformat": 4,
 "nbformat_minor": 2
}
